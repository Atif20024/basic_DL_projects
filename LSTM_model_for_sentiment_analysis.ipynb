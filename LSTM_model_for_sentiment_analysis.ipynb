{
  "nbformat": 4,
  "nbformat_minor": 0,
  "metadata": {
    "colab": {
      "provenance": [],
      "gpuType": "T4"
    },
    "kernelspec": {
      "name": "python3",
      "display_name": "Python 3"
    },
    "language_info": {
      "name": "python"
    },
    "accelerator": "GPU"
  },
  "cells": [
    {
      "cell_type": "markdown",
      "source": [
        "**Task:**\n",
        "\n",
        "Create a DL training pipeline to train a LSTM/GRU (any one) and one Transformers\n",
        "network to identify Sentiments in a sentence. You are free to choose any open\n",
        "source dataset (like IMDB reviews or Amazon product ratings or any other). Report\n",
        "your accuracy. Create an inference pipeline which can accept a user text and provide\n",
        "score to each sentiment on it.**bold text**"
      ],
      "metadata": {
        "id": "ylpZOGSiSmCQ"
      }
    },
    {
      "cell_type": "markdown",
      "source": [
        "1. LSTM approach"
      ],
      "metadata": {
        "id": "jpVGj86US0h0"
      }
    },
    {
      "cell_type": "code",
      "source": [
        "# module installation\n",
        "!pip install 'portalocker>=2.8.2' # for data_iter_downloading"
      ],
      "metadata": {
        "colab": {
          "base_uri": "https://localhost:8080/"
        },
        "id": "Y13KhUkjVJ3T",
        "outputId": "a7eef557-ebf7-40b8-c604-bf43b7f4378c"
      },
      "execution_count": null,
      "outputs": [
        {
          "output_type": "stream",
          "name": "stdout",
          "text": [
            "Collecting portalocker>=2.8.2\n",
            "  Downloading portalocker-2.8.2-py3-none-any.whl (17 kB)\n",
            "Installing collected packages: portalocker\n",
            "Successfully installed portalocker-2.8.2\n"
          ]
        }
      ]
    },
    {
      "cell_type": "code",
      "execution_count": null,
      "metadata": {
        "colab": {
          "base_uri": "https://localhost:8080/"
        },
        "id": "402jxV2nSkA9",
        "outputId": "66e6ea0f-2192-42fb-d84b-2c4d20ee495e"
      },
      "outputs": [
        {
          "output_type": "stream",
          "name": "stdout",
          "text": [
            "2.2.1+cu121\n",
            "0.17.1+cpu\n"
          ]
        }
      ],
      "source": [
        "import torch\n",
        "from torch import nn\n",
        "from torch.utils.data import DataLoader\n",
        "\n",
        "import torchtext\n",
        "from torchtext.datasets import IMDB\n",
        "from torchtext.data import get_tokenizer\n",
        "\n",
        "import warnings\n",
        "warnings.filterwarnings('ignore')\n",
        "\n",
        "print(torch.__version__)\n",
        "print(torchtext.__version__)"
      ]
    },
    {
      "cell_type": "code",
      "source": [
        "device = torch.device(\"cuda\" if torch.cuda.is_available() else \"cpu\")\n",
        "device\n",
        "# device = torch.device('cpu')"
      ],
      "metadata": {
        "colab": {
          "base_uri": "https://localhost:8080/"
        },
        "id": "f3GRnF5d2nNB",
        "outputId": "db2b992c-66fa-4a5d-c557-3c26e5c8171c"
      },
      "execution_count": null,
      "outputs": [
        {
          "output_type": "execute_result",
          "data": {
            "text/plain": [
              "device(type='cuda')"
            ]
          },
          "metadata": {},
          "execution_count": 3
        }
      ]
    },
    {
      "cell_type": "code",
      "source": [
        "train_data_iter, test_data_iter = IMDB(split=('train', 'test'))"
      ],
      "metadata": {
        "id": "QTwwSTxuTz_M"
      },
      "execution_count": null,
      "outputs": []
    },
    {
      "cell_type": "code",
      "source": [
        "import pandas as pd\n",
        "def get_dataframe(iterator=train_data_iter):\n",
        "  labels, reviews = [], []\n",
        "  for label, line in iterator:\n",
        "      labels.append(label)\n",
        "      reviews.append(line)\n",
        "  df = pd.DataFrame({'sentiment': labels, 'review': reviews})\n",
        "  return df\n"
      ],
      "metadata": {
        "id": "PvK4WMFCaP2T"
      },
      "execution_count": null,
      "outputs": []
    },
    {
      "cell_type": "code",
      "source": [
        "df_train = get_dataframe(train_data_iter)\n",
        "print(df_train.shape)\n",
        "df_test = get_dataframe(test_data_iter)\n",
        "print(df_test.shape)"
      ],
      "metadata": {
        "colab": {
          "base_uri": "https://localhost:8080/"
        },
        "id": "G2CblGRLaP0b",
        "outputId": "714f3e6a-2ac6-4211-a657-e5888003e2fa"
      },
      "execution_count": null,
      "outputs": [
        {
          "output_type": "stream",
          "name": "stdout",
          "text": [
            "(25000, 2)\n",
            "(25000, 2)\n"
          ]
        }
      ]
    },
    {
      "cell_type": "code",
      "source": [
        "print(df_train['sentiment'].value_counts())\n",
        "print(df_test['sentiment'].value_counts())"
      ],
      "metadata": {
        "colab": {
          "base_uri": "https://localhost:8080/"
        },
        "id": "Z2GRC_gtaPyp",
        "outputId": "0eb442c3-9ea6-48a3-b2b2-cc45a91209dd"
      },
      "execution_count": null,
      "outputs": [
        {
          "output_type": "stream",
          "name": "stdout",
          "text": [
            "sentiment\n",
            "1    12500\n",
            "2    12500\n",
            "Name: count, dtype: int64\n",
            "sentiment\n",
            "1    12500\n",
            "2    12500\n",
            "Name: count, dtype: int64\n"
          ]
        }
      ]
    },
    {
      "cell_type": "code",
      "source": [
        "\n",
        "df_train = df_train.sample(frac=1).reset_index(drop=True)\n"
      ],
      "metadata": {
        "id": "HDZ05cqKSYJ_"
      },
      "execution_count": null,
      "outputs": []
    },
    {
      "cell_type": "code",
      "source": [
        "import re\n",
        "def clean_text(text):\n",
        "  # removing html tags that contains at max 10 character, incase someone wrote review in the brackets.\n",
        "  text = re.sub(r\"<[^>]{1,10}>\", \" \", text)\n",
        "\n",
        "  #removing all not alphabet charaters\n",
        "  text = re.sub(r\"[^A-Za-z .,']\", \" \", text)\n",
        "\n",
        "  # removing mulitple spaces\n",
        "  text = re.sub(r\"\\s+\", \" \", text)\n",
        "\n",
        "  return text.strip(\" \").strip(\".\").lower()\n",
        "\n",
        "# to be applied to all the texts before proceeding to model training"
      ],
      "metadata": {
        "id": "JBunO5cNaPtF"
      },
      "execution_count": null,
      "outputs": []
    },
    {
      "cell_type": "code",
      "source": [
        "df_train['review'] = df_train['review'].apply(clean_text)\n",
        "df_test['review'] = df_test['review'].apply(clean_text)\n",
        "\n",
        "df_train['sentiment'] = df_train['sentiment'] - 1\n",
        "df_test['sentiment'] = df_test['sentiment'] -1"
      ],
      "metadata": {
        "id": "WUtFn2oZGtCG"
      },
      "execution_count": null,
      "outputs": []
    },
    {
      "cell_type": "code",
      "source": [
        "VOCAB_SIZE = 20000"
      ],
      "metadata": {
        "id": "-3CWmto-rMft"
      },
      "execution_count": null,
      "outputs": []
    },
    {
      "cell_type": "code",
      "source": [
        "train_data_iter = [(row['sentiment'], row['review']) for _, row in df_train.iterrows()]\n",
        "test_data_iter = [(row['sentiment'], row['review']) for _, row in df_test.iterrows()]\n"
      ],
      "metadata": {
        "id": "Reaah70SjjpC"
      },
      "execution_count": null,
      "outputs": []
    },
    {
      "cell_type": "code",
      "source": [
        "#building vocabolary\n",
        "tokenizer = get_tokenizer('basic_english')\n",
        "from torchtext.vocab import build_vocab_from_iterator, Vocab, vocab\n",
        "\n",
        "from collections import Counter\n",
        "\n",
        "counter = Counter()\n",
        "for _, text in train_data_iter:\n",
        "    tokens = tokenizer(text)\n",
        "    counter.update(tokens)\n",
        "\n",
        "most_common = counter.most_common(VOCAB_SIZE)\n",
        "most_common = {f'{key[0]}': key[1] for key in most_common}\n",
        "\n",
        "vocab = vocab(Counter(most_common), specials=[\"<unk>\", \"<pad>\"])\n"
      ],
      "metadata": {
        "id": "TS975eQ_rR6-"
      },
      "execution_count": null,
      "outputs": []
    },
    {
      "cell_type": "code",
      "source": [
        "train_dataloader = DataLoader(train_data_iter, batch_size=32, shuffle=True)\n",
        "test_dataloader = DataLoader(test_data_iter, batch_size=32, shuffle=False)\n"
      ],
      "metadata": {
        "id": "mi0YaBxgIdQz"
      },
      "execution_count": null,
      "outputs": []
    },
    {
      "cell_type": "code",
      "source": [
        "class sentimentModelvLSTM(nn.Module):\n",
        "  def __init__(self, input_dim, embedding_dim, hidden_dim, output_dim=1):\n",
        "    super().__init__()\n",
        "    self.embedding = nn.Embedding(input_dim, embedding_dim)\n",
        "    self.hidden_dim = hidden_dim\n",
        "    self.lstm = nn.LSTM(embedding_dim, hidden_dim)\n",
        "    self.fc1 = nn.Linear(hidden_dim, hidden_dim//2)\n",
        "    self.fc2 = nn.Linear(hidden_dim//2, output_dim)\n",
        "    self.sigmoid = nn.Sigmoid()\n",
        "    for name, param in self.named_parameters():\n",
        "        if 'weight' in name:\n",
        "            nn.init.normal_(param, mean=0.0, std=0.01)\n",
        "\n",
        "  def forward(self, review):\n",
        "    embed = self.embedding(review.long())\n",
        "\n",
        "    embed = embed.permute(1,0,2)\n",
        "\n",
        "    h0 = torch.zeros(1, embed.size(1), self.hidden_dim).to(embed.device)\n",
        "    c0 = torch.zeros(1, embed.size(1), self.hidden_dim).to(embed.device)\n",
        "    output, (hn, cn) = self.lstm(embed, (h0, c0))\n",
        "\n",
        "    hn = hn.squeeze(0)\n",
        "    fc_layer = self.fc1(hn)\n",
        "    out = self.fc2(fc_layer)\n",
        "    out_final = self.sigmoid(out)\n",
        "    return out_final.squeeze(1)\n",
        "\n"
      ],
      "metadata": {
        "id": "6wP-5VC5aPri"
      },
      "execution_count": null,
      "outputs": []
    },
    {
      "cell_type": "code",
      "source": [
        "LSTMmodel = sentimentModelvLSTM(\n",
        "    input_dim = len(vocab),\n",
        "    embedding_dim=128,\n",
        "    hidden_dim=64,\n",
        "    output_dim=1\n",
        ").to(device)"
      ],
      "metadata": {
        "id": "RCuK9fNqaPpq"
      },
      "execution_count": null,
      "outputs": []
    },
    {
      "cell_type": "code",
      "source": [
        "loss_fn = nn.BCELoss()\n",
        "optimizer = torch.optim.Adam(params=LSTMmodel.parameters(),\n",
        "                             lr = 0.0001)"
      ],
      "metadata": {
        "id": "WrEftipNR_Yq"
      },
      "execution_count": null,
      "outputs": []
    },
    {
      "cell_type": "code",
      "source": [
        "def accuracy_calculation(y_pred, y_true):\n",
        "    correct = torch.eq(y_true, y_pred).sum().item()\n",
        "    acc = (correct / len(y_pred)) * 100\n",
        "    return acc"
      ],
      "metadata": {
        "id": "XvYfZR50XSgk"
      },
      "execution_count": null,
      "outputs": []
    },
    {
      "cell_type": "code",
      "source": [
        "def pad_sequences(sequences, max_length=50, padding_value=1):\n",
        "\n",
        "    lengths = [min(len(seq), max_length) for seq in sequences]\n",
        "    padded_sequences = torch.full((len(sequences), max_length), padding_value, dtype=torch.long)\n",
        "    for i, seq in enumerate(sequences):\n",
        "        end = min(len(seq), max_length)\n",
        "        padded_sequences[i, :end] = torch.tensor(seq[:end])\n",
        "    return padded_sequences, lengths\n"
      ],
      "metadata": {
        "id": "wQEcau1m5k9l"
      },
      "execution_count": null,
      "outputs": []
    },
    {
      "cell_type": "code",
      "source": [
        "# df_train['review'].apply(lambda x: len(tokenizer(x))).mean()"
      ],
      "metadata": {
        "id": "K1Fk-7RjSoX3"
      },
      "execution_count": null,
      "outputs": []
    },
    {
      "cell_type": "code",
      "source": [
        "# training the model\n",
        "epochs = 15\n",
        "torch.manual_seed(42)\n",
        "from tqdm import tqdm\n",
        "epochs_list = []\n",
        "training_loss_list = []\n",
        "test_loss_list = []\n",
        "test_acc_list = []\n",
        "\n",
        "for epoch in tqdm(range(epochs)):\n",
        "  print(f\"Epoch count: {epoch}\" )\n",
        "  train_loss, train_acc = 0, 0\n",
        "  LSTMmodel.train()\n",
        "  for idx, batch in enumerate(train_dataloader):\n",
        "    y, X = batch\n",
        "    indices = [torch.tensor([vocab[token] if token in vocab else 0 for token in tokenizer(text)]) for text in X]\n",
        "    X_tensor, lengths = pad_sequences(indices, max_length=250)\n",
        "    X_tensor = X_tensor.to(device)\n",
        "\n",
        "    y = y.to(device)\n",
        "    optimizer.zero_grad()\n",
        "    y_pred = LSTMmodel(X_tensor)\n",
        "\n",
        "    loss = loss_fn(y_pred.float(), y.float())\n",
        "    train_loss += loss\n",
        "\n",
        "    loss.backward()\n",
        "    optimizer.step()\n",
        "\n",
        "  train_loss = train_loss/len(train_dataloader)\n",
        "\n",
        "  test_loss, test_accuracy = 0, 0\n",
        "  LSTMmodel.eval()\n",
        "  with torch.inference_mode():\n",
        "    for y_test, X_test in test_dataloader:\n",
        "      indices = [torch.tensor([vocab[token] if token in vocab else 0 for token in tokenizer(text)]) for text in X_test]\n",
        "      X_test_tensor, lengths = pad_sequences(indices, max_length=250)\n",
        "      X_test_tensor = X_test_tensor.to(device)\n",
        "      y_test = y_test.to(device)\n",
        "      test_pred = LSTMmodel(X_test_tensor)\n",
        "      t_loss = loss_fn(test_pred.float(), y_test.float())\n",
        "      test_loss += t_loss\n",
        "\n",
        "      test_accuracy += accuracy_calculation(test_pred.round(), y_test)\n",
        "    test_loss = test_loss/len(test_dataloader)\n",
        "    test_accuracy = test_accuracy/len(test_dataloader)\n",
        "\n",
        "  epochs_list.append(epoch)\n",
        "  training_loss_list.append(train_loss)\n",
        "  test_loss_list.append(test_loss)\n",
        "  test_acc_list.append(test_accuracy)\n",
        "  print(f\"train_loss: {train_loss: .3f} | test_loss: {test_loss: .3f}, test_accuracy: {test_accuracy: .2f}\")\n",
        "\n"
      ],
      "metadata": {
        "colab": {
          "base_uri": "https://localhost:8080/"
        },
        "id": "MzdegF1LaPkU",
        "outputId": "9db6494e-ee45-472a-87cd-84e062309124"
      },
      "execution_count": null,
      "outputs": [
        {
          "output_type": "stream",
          "name": "stderr",
          "text": [
            "\r  0%|          | 0/15 [00:00<?, ?it/s]"
          ]
        },
        {
          "output_type": "stream",
          "name": "stdout",
          "text": [
            "Epoch count: 0\n"
          ]
        },
        {
          "output_type": "stream",
          "name": "stderr",
          "text": [
            "\r  7%|▋         | 1/15 [00:27<06:18, 27.04s/it]"
          ]
        },
        {
          "output_type": "stream",
          "name": "stdout",
          "text": [
            "train_loss:  0.142 | test_loss:  1.293, test_accuracy:  67.47\n",
            "Epoch count: 1\n"
          ]
        },
        {
          "output_type": "stream",
          "name": "stderr",
          "text": [
            "\r 13%|█▎        | 2/15 [00:54<05:54, 27.29s/it]"
          ]
        },
        {
          "output_type": "stream",
          "name": "stdout",
          "text": [
            "train_loss:  0.144 | test_loss:  1.311, test_accuracy:  67.70\n",
            "Epoch count: 2\n"
          ]
        },
        {
          "output_type": "stream",
          "name": "stderr",
          "text": [
            "\r 20%|██        | 3/15 [01:22<05:30, 27.55s/it]"
          ]
        },
        {
          "output_type": "stream",
          "name": "stdout",
          "text": [
            "train_loss:  0.140 | test_loss:  1.327, test_accuracy:  67.85\n",
            "Epoch count: 3\n"
          ]
        },
        {
          "output_type": "stream",
          "name": "stderr",
          "text": [
            "\r 27%|██▋       | 4/15 [01:49<05:01, 27.37s/it]"
          ]
        },
        {
          "output_type": "stream",
          "name": "stdout",
          "text": [
            "train_loss:  0.142 | test_loss:  1.336, test_accuracy:  68.19\n",
            "Epoch count: 4\n"
          ]
        },
        {
          "output_type": "stream",
          "name": "stderr",
          "text": [
            "\r 33%|███▎      | 5/15 [02:16<04:32, 27.25s/it]"
          ]
        },
        {
          "output_type": "stream",
          "name": "stdout",
          "text": [
            "train_loss:  0.143 | test_loss:  1.309, test_accuracy:  67.68\n",
            "Epoch count: 5\n"
          ]
        },
        {
          "output_type": "stream",
          "name": "stderr",
          "text": [
            "\r 40%|████      | 6/15 [02:43<04:05, 27.32s/it]"
          ]
        },
        {
          "output_type": "stream",
          "name": "stdout",
          "text": [
            "train_loss:  0.136 | test_loss:  1.348, test_accuracy:  67.82\n",
            "Epoch count: 6\n"
          ]
        },
        {
          "output_type": "stream",
          "name": "stderr",
          "text": [
            "\r 47%|████▋     | 7/15 [03:11<03:39, 27.41s/it]"
          ]
        },
        {
          "output_type": "stream",
          "name": "stdout",
          "text": [
            "train_loss:  0.133 | test_loss:  1.373, test_accuracy:  67.65\n",
            "Epoch count: 7\n"
          ]
        },
        {
          "output_type": "stream",
          "name": "stderr",
          "text": [
            "\r 53%|█████▎    | 8/15 [03:38<03:11, 27.31s/it]"
          ]
        },
        {
          "output_type": "stream",
          "name": "stdout",
          "text": [
            "train_loss:  0.135 | test_loss:  1.362, test_accuracy:  67.63\n",
            "Epoch count: 8\n"
          ]
        },
        {
          "output_type": "stream",
          "name": "stderr",
          "text": [
            "\r 60%|██████    | 9/15 [04:05<02:43, 27.23s/it]"
          ]
        },
        {
          "output_type": "stream",
          "name": "stdout",
          "text": [
            "train_loss:  0.139 | test_loss:  1.357, test_accuracy:  67.99\n",
            "Epoch count: 9\n"
          ]
        },
        {
          "output_type": "stream",
          "name": "stderr",
          "text": [
            "\r 67%|██████▋   | 10/15 [04:33<02:16, 27.37s/it]"
          ]
        },
        {
          "output_type": "stream",
          "name": "stdout",
          "text": [
            "train_loss:  0.131 | test_loss:  1.352, test_accuracy:  67.60\n",
            "Epoch count: 10\n"
          ]
        },
        {
          "output_type": "stream",
          "name": "stderr",
          "text": [
            "\r 73%|███████▎  | 11/15 [05:00<01:49, 27.36s/it]"
          ]
        },
        {
          "output_type": "stream",
          "name": "stdout",
          "text": [
            "train_loss:  0.130 | test_loss:  1.372, test_accuracy:  67.59\n",
            "Epoch count: 11\n"
          ]
        },
        {
          "output_type": "stream",
          "name": "stderr",
          "text": [
            "\r 80%|████████  | 12/15 [05:27<01:21, 27.25s/it]"
          ]
        },
        {
          "output_type": "stream",
          "name": "stdout",
          "text": [
            "train_loss:  0.127 | test_loss:  1.405, test_accuracy:  67.72\n",
            "Epoch count: 12\n"
          ]
        },
        {
          "output_type": "stream",
          "name": "stderr",
          "text": [
            "\r 87%|████████▋ | 13/15 [05:54<00:54, 27.24s/it]"
          ]
        },
        {
          "output_type": "stream",
          "name": "stdout",
          "text": [
            "train_loss:  0.125 | test_loss:  1.399, test_accuracy:  67.54\n",
            "Epoch count: 13\n"
          ]
        },
        {
          "output_type": "stream",
          "name": "stderr",
          "text": [
            "\r 93%|█████████▎| 14/15 [06:22<00:27, 27.38s/it]"
          ]
        },
        {
          "output_type": "stream",
          "name": "stdout",
          "text": [
            "train_loss:  0.124 | test_loss:  1.401, test_accuracy:  67.87\n",
            "Epoch count: 14\n"
          ]
        },
        {
          "output_type": "stream",
          "name": "stderr",
          "text": [
            "100%|██████████| 15/15 [06:50<00:00, 27.34s/it]"
          ]
        },
        {
          "output_type": "stream",
          "name": "stdout",
          "text": [
            "train_loss:  0.126 | test_loss:  1.415, test_accuracy:  67.62\n"
          ]
        },
        {
          "output_type": "stream",
          "name": "stderr",
          "text": [
            "\n"
          ]
        }
      ]
    },
    {
      "cell_type": "code",
      "source": [
        "import matplotlib.pyplot as plt\n",
        "\n",
        "plt.figure(figsize=(12, 5))\n",
        "\n",
        "# Plotting Loss\n",
        "plt.subplot(1, 2, 1)\n",
        "plt.plot(epochs_list, [tensor.detach().cpu().numpy() for tensor in training_loss_list] , label='Training Loss', marker='o')\n",
        "plt.plot(epochs_list, [tensor.detach().cpu().numpy() for tensor in test_loss_list], label='Test Loss', marker='x')\n",
        "plt.xlabel('Epochs')\n",
        "plt.ylabel('Loss')\n",
        "plt.title('Training and Test Loss')\n",
        "plt.legend()\n",
        "\n",
        "# Plotting Accuracy\n",
        "plt.subplot(1, 2, 2)\n",
        "plt.plot(epochs_list, test_acc_list, label='Test Accuracy', marker='o', color='green')\n",
        "plt.xlabel('Epochs')\n",
        "plt.ylabel('Accuracy')\n",
        "plt.title('Test Accuracy')\n",
        "plt.legend()\n",
        "\n",
        "plt.tight_layout()\n",
        "plt.show()\n"
      ],
      "metadata": {
        "colab": {
          "base_uri": "https://localhost:8080/",
          "height": 451
        },
        "id": "uRHjskTP9xEB",
        "outputId": "8bf32e23-3fcc-47f1-f2f4-ed5ff7b9f611"
      },
      "execution_count": null,
      "outputs": [
        {
          "output_type": "display_data",
          "data": {
            "text/plain": [
              "<Figure size 1200x500 with 2 Axes>"
            ],
            "image/png": "[encoded data removed]"
          },
          "metadata": {}
        }
      ]
    },
    {
      "cell_type": "code",
      "source": [
        "128*250"
      ],
      "metadata": {
        "id": "XOle9wjmLMfI",
        "outputId": "905d5784-70d9-42e2-a43f-8a6cf48721af",
        "colab": {
          "base_uri": "https://localhost:8080/"
        }
      },
      "execution_count": null,
      "outputs": [
        {
          "output_type": "execute_result",
          "data": {
            "text/plain": [
              "32000"
            ]
          },
          "metadata": {},
          "execution_count": 1
        }
      ]
    },
    {
      "cell_type": "code",
      "source": [
        "# inference pipeline\n",
        "# [128, 250] # 5x5\n",
        "\n",
        "\n",
        "def preprocess_text(input_text, vocab, tokenizer):\n",
        "    input_text = clean_text(input_text)\n",
        "    indices = [torch.tensor([vocab[token] if token in vocab else 0 for token in tokenizer(input_text)])]\n",
        "\n",
        "    return indices\n",
        "\n",
        "def predict_sentiment(text, model, vocab, tokenizer):\n",
        "    LSTMmodel.eval()\n",
        "    with torch.inference_mode():\n",
        "        indexed = preprocess_text(text, vocab, tokenizer)\n",
        "        val_tensor, lengths = pad_sequences(indexed, max_length=250)\n",
        "        prediction = model(val_tensor.to(device))\n",
        "        print(prediction)\n",
        "        return prediction.item()\n",
        "\n",
        "input_text = \"worst movie ever\"\n",
        "sentiment = predict_sentiment(input_text, LSTMmodel, vocab, tokenizer)\n",
        "sentiment_in_word = 'positive' if round(sentiment)==1 else 'Negative'\n",
        "print(\"Sentiment:\", sentiment_in_word)"
      ],
      "metadata": {
        "id": "ffZvhPWZfwaF",
        "colab": {
          "base_uri": "https://localhost:8080/"
        },
        "outputId": "c298ad39-e3cc-4f03-a168-bdffac05b109"
      },
      "execution_count": null,
      "outputs": [
        {
          "output_type": "stream",
          "name": "stdout",
          "text": [
            "tensor([0.0093], device='cuda:0')\n",
            "Sentiment: Negative\n"
          ]
        }
      ]
    },
    {
      "cell_type": "code",
      "source": [],
      "metadata": {
        "id": "oM8FH4pEA_8r"
      },
      "execution_count": null,
      "outputs": []
    }
  ]
}

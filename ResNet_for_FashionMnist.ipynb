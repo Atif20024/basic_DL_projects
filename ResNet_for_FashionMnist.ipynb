{
  "cells": [
    {
      "cell_type": "code",
      "execution_count": null,
      "metadata": {
        "colab": {
          "base_uri": "https://localhost:8080/"
        },
        "id": "cIunaQ5nY4wK",
        "outputId": "5cfab494-c87e-4108-9e32-e183e87f4715"
      },
      "outputs": [
        {
          "output_type": "stream",
          "name": "stdout",
          "text": [
            "2.2.1+cu121\n",
            "0.17.1+cu121\n"
          ]
        }
      ],
      "source": [
        "#pytorch CV\n",
        "import torch\n",
        "from torch import nn\n",
        "\n",
        "import torchvision\n",
        "from torchvision import datasets\n",
        "from torchvision import transforms\n",
        "from torchvision.transforms import ToTensor\n",
        "\n",
        "import matplotlib.pyplot as plt\n",
        "\n",
        "print(torch.__version__)\n",
        "print(torchvision.__version__)"
      ]
    },
    {
      "cell_type": "code",
      "execution_count": null,
      "metadata": {
        "colab": {
          "base_uri": "https://localhost:8080/"
        },
        "id": "bXuRQD0Gx6jF",
        "outputId": "ac4efc2f-db3f-425c-fab9-162b16f9e0b7"
      },
      "outputs": [
        {
          "output_type": "execute_result",
          "data": {
            "text/plain": [
              "device(type='cuda')"
            ]
          },
          "metadata": {},
          "execution_count": 2
        }
      ],
      "source": [
        "device = torch.device(\"cuda\" if torch.cuda.is_available() else \"cpu\")\n",
        "device"
      ]
    },
    {
      "cell_type": "code",
      "execution_count": null,
      "metadata": {
        "id": "mLW98rgXZC0f",
        "colab": {
          "base_uri": "https://localhost:8080/"
        },
        "outputId": "49ff8a1f-e363-4991-da41-e3bbafa85d78"
      },
      "outputs": [
        {
          "output_type": "stream",
          "name": "stdout",
          "text": [
            "Downloading http://fashion-mnist.s3-website.eu-central-1.amazonaws.com/train-images-idx3-ubyte.gz\n",
            "Downloading http://fashion-mnist.s3-website.eu-central-1.amazonaws.com/train-images-idx3-ubyte.gz to data/FashionMNIST/raw/train-images-idx3-ubyte.gz\n"
          ]
        },
        {
          "output_type": "stream",
          "name": "stderr",
          "text": [
            "100%|██████████| 26421880/26421880 [00:01<00:00, 16255385.13it/s]\n"
          ]
        },
        {
          "output_type": "stream",
          "name": "stdout",
          "text": [
            "Extracting data/FashionMNIST/raw/train-images-idx3-ubyte.gz to data/FashionMNIST/raw\n",
            "\n",
            "Downloading http://fashion-mnist.s3-website.eu-central-1.amazonaws.com/train-labels-idx1-ubyte.gz\n",
            "Downloading http://fashion-mnist.s3-website.eu-central-1.amazonaws.com/train-labels-idx1-ubyte.gz to data/FashionMNIST/raw/train-labels-idx1-ubyte.gz\n"
          ]
        },
        {
          "output_type": "stream",
          "name": "stderr",
          "text": [
            "100%|██████████| 29515/29515 [00:00<00:00, 269171.97it/s]\n"
          ]
        },
        {
          "output_type": "stream",
          "name": "stdout",
          "text": [
            "Extracting data/FashionMNIST/raw/train-labels-idx1-ubyte.gz to data/FashionMNIST/raw\n",
            "\n",
            "Downloading http://fashion-mnist.s3-website.eu-central-1.amazonaws.com/t10k-images-idx3-ubyte.gz\n",
            "Downloading http://fashion-mnist.s3-website.eu-central-1.amazonaws.com/t10k-images-idx3-ubyte.gz to data/FashionMNIST/raw/t10k-images-idx3-ubyte.gz\n"
          ]
        },
        {
          "output_type": "stream",
          "name": "stderr",
          "text": [
            "100%|██████████| 4422102/4422102 [00:00<00:00, 5097311.99it/s]\n"
          ]
        },
        {
          "output_type": "stream",
          "name": "stdout",
          "text": [
            "Extracting data/FashionMNIST/raw/t10k-images-idx3-ubyte.gz to data/FashionMNIST/raw\n",
            "\n",
            "Downloading http://fashion-mnist.s3-website.eu-central-1.amazonaws.com/t10k-labels-idx1-ubyte.gz\n",
            "Downloading http://fashion-mnist.s3-website.eu-central-1.amazonaws.com/t10k-labels-idx1-ubyte.gz to data/FashionMNIST/raw/t10k-labels-idx1-ubyte.gz\n"
          ]
        },
        {
          "output_type": "stream",
          "name": "stderr",
          "text": [
            "100%|██████████| 5148/5148 [00:00<00:00, 5901141.57it/s]"
          ]
        },
        {
          "output_type": "stream",
          "name": "stdout",
          "text": [
            "Extracting data/FashionMNIST/raw/t10k-labels-idx1-ubyte.gz to data/FashionMNIST/raw\n",
            "\n"
          ]
        },
        {
          "output_type": "stream",
          "name": "stderr",
          "text": [
            "\n"
          ]
        }
      ],
      "source": [
        "train_data = datasets.FashionMNIST(\n",
        "    root=\"data\",\n",
        "    train=True,\n",
        "    download=True,\n",
        "    transform=ToTensor(),\n",
        "    target_transform=None\n",
        ")\n",
        "\n",
        "test_data = datasets.FashionMNIST(\n",
        "    root=\"data\",\n",
        "    train=False,\n",
        "    download = True,\n",
        "    transform=ToTensor(),\n",
        "    target_transform=None\n",
        ")"
      ]
    },
    {
      "cell_type": "code",
      "execution_count": null,
      "metadata": {
        "colab": {
          "base_uri": "https://localhost:8080/"
        },
        "id": "rmilK1gbZKJ3",
        "outputId": "c57afa7b-66b7-4df8-f643-c15072151290"
      },
      "outputs": [
        {
          "output_type": "execute_result",
          "data": {
            "text/plain": [
              "(60000, 10000)"
            ]
          },
          "metadata": {},
          "execution_count": 4
        }
      ],
      "source": [
        "len(train_data), len(test_data)"
      ]
    },
    {
      "cell_type": "code",
      "execution_count": null,
      "metadata": {
        "colab": {
          "base_uri": "https://localhost:8080/"
        },
        "id": "KUbfPsVlZWMS",
        "outputId": "753502d0-060b-40ee-c156-9b4cf827d7d8"
      },
      "outputs": [
        {
          "output_type": "execute_result",
          "data": {
            "text/plain": [
              "(torch.Size([1, 28, 28]), 9)"
            ]
          },
          "metadata": {},
          "execution_count": 5
        }
      ],
      "source": [
        "# first sample\n",
        "image, label = train_data[0]\n",
        "image.shape, label"
      ]
    },
    {
      "cell_type": "code",
      "execution_count": null,
      "metadata": {
        "colab": {
          "base_uri": "https://localhost:8080/"
        },
        "id": "hDdlzmf3ZyTE",
        "outputId": "4718965a-d8d2-4ad1-dc18-83d781bdb034"
      },
      "outputs": [
        {
          "output_type": "execute_result",
          "data": {
            "text/plain": [
              "{'T-shirt/top': 0,\n",
              " 'Trouser': 1,\n",
              " 'Pullover': 2,\n",
              " 'Dress': 3,\n",
              " 'Coat': 4,\n",
              " 'Sandal': 5,\n",
              " 'Shirt': 6,\n",
              " 'Sneaker': 7,\n",
              " 'Bag': 8,\n",
              " 'Ankle boot': 9}"
            ]
          },
          "metadata": {},
          "execution_count": 6
        }
      ],
      "source": [
        "class_names = train_data.classes\n",
        "\n",
        "class_to_idx_mapping = train_data.class_to_idx\n",
        "class_to_idx_mapping"
      ]
    },
    {
      "cell_type": "code",
      "execution_count": null,
      "metadata": {
        "colab": {
          "base_uri": "https://localhost:8080/",
          "height": 452
        },
        "id": "0p1B2v6AZ6JG",
        "outputId": "c5008469-6e6d-46aa-aabb-2f5bdee4bf89"
      },
      "outputs": [
        {
          "output_type": "display_data",
          "data": {
            "text/plain": [
              "<Figure size 640x480 with 1 Axes>"
            ],
            "image/png": "[encoded data removed]"
          },
          "metadata": {}
        }
      ],
      "source": [
        "# ploting the image to visualize\n",
        "def plot_image(img, label, color=None):\n",
        "  img = img.squeeze()\n",
        "  plt.imshow(img, cmap=color)\n",
        "  plt.title(f\"showing example of class: {class_names[label]}\")\n",
        "\n",
        "img, label = train_data[0]\n",
        "plot_image(img, label, 'gray')"
      ]
    },
    {
      "cell_type": "code",
      "execution_count": null,
      "metadata": {
        "id": "XpKXqKx3a4pZ"
      },
      "outputs": [],
      "source": [
        "\n",
        "from torch.utils.data import DataLoader\n",
        "BATCH_SIZE = 32\n",
        "train_dataloader = DataLoader(\n",
        "    dataset = train_data,\n",
        "    batch_size = BATCH_SIZE,\n",
        "    shuffle=True\n",
        ")\n",
        "test_dataloader = DataLoader(\n",
        "    dataset = test_data,\n",
        "    batch_size = BATCH_SIZE,\n",
        "    shuffle=True\n",
        ")"
      ]
    },
    {
      "cell_type": "code",
      "execution_count": null,
      "metadata": {
        "colab": {
          "base_uri": "https://localhost:8080/"
        },
        "id": "e-b10Oh2AtzG",
        "outputId": "39ac1370-0e37-4339-a548-dbb557531aec"
      },
      "outputs": [
        {
          "output_type": "stream",
          "name": "stdout",
          "text": [
            "length of train_dataloader: 1875, of size 32 each\n",
            "length of test_dataloader: 313, of size 32 each\n"
          ]
        }
      ],
      "source": [
        "print(f\"length of train_dataloader: {len(train_dataloader)}, of size {BATCH_SIZE} each\")\n",
        "print(f\"length of test_dataloader: {len(test_dataloader)}, of size {BATCH_SIZE} each\")\n",
        "\n",
        "# each batch will have dimensions [32, 1, 28, 28]\n",
        "# if needed we can augment data\n",
        "# build transformation pipeline to transform any input image to pre-defined structure.\n"
      ]
    },
    {
      "cell_type": "code",
      "execution_count": null,
      "metadata": {
        "id": "E7SLRMpcCTUC",
        "colab": {
          "base_uri": "https://localhost:8080/"
        },
        "outputId": "12071cc9-26f0-47d6-e8f8-0e8d631591b0"
      },
      "outputs": [
        {
          "output_type": "stream",
          "name": "stderr",
          "text": [
            "/usr/local/lib/python3.10/dist-packages/torchvision/models/_utils.py:208: UserWarning: The parameter 'pretrained' is deprecated since 0.13 and may be removed in the future, please use 'weights' instead.\n",
            "  warnings.warn(\n",
            "/usr/local/lib/python3.10/dist-packages/torchvision/models/_utils.py:223: UserWarning: Arguments other than a weight enum or `None` for 'weights' are deprecated since 0.13 and may be removed in the future. The current behavior is equivalent to passing `weights=ResNet18_Weights.IMAGENET1K_V1`. You can also use `weights=ResNet18_Weights.DEFAULT` to get the most up-to-date weights.\n",
            "  warnings.warn(msg)\n"
          ]
        }
      ],
      "source": [
        "# modelling\n",
        "from torchvision import models\n",
        "\n",
        "class CustomResNet(nn.Module):\n",
        "  def __init__(self, num_classes):\n",
        "    super().__init__()\n",
        "\n",
        "    self.resnet = models.resnet18(pretrained=True)\n",
        "\n",
        "    for param in self.resnet.parameters():\n",
        "      param.requires_grad = False\n",
        "\n",
        "    self.resnet.conv1 = nn.Conv2d(1, 64, kernel_size=7, stride=2, padding=3, bias=False)\n",
        "    self.num_filters = self.resnet.fc.in_features\n",
        "    self.resnet.fc = nn.Sequential(\n",
        "        nn.Linear(self.num_filters, 512),\n",
        "        nn.ReLU(),\n",
        "        nn.Linear(self.num_filters, 256),\n",
        "        nn.ReLU(),\n",
        "        nn.Linear(256, len(class_names))\n",
        "    )\n",
        "\n",
        "  def forward(self, x):\n",
        "    return self.resnet(x)\n",
        "\n",
        "model = CustomResNet(len(class_names)).to(device)\n",
        "\n",
        "loss_fn = nn.CrossEntropyLoss()\n",
        "optimizer = torch.optim.Adam(model.parameters(), lr=0.0001)"
      ]
    },
    {
      "cell_type": "code",
      "execution_count": null,
      "metadata": {
        "id": "Ex_CJeTjvuvc"
      },
      "outputs": [],
      "source": [
        "for name, param in model.named_parameters():\n",
        "    print(f\"Layer: {name}, Trainable: {param.requires_grad}\")\n"
      ]
    },
    {
      "cell_type": "code",
      "execution_count": null,
      "metadata": {
        "id": "3p4MdqQisYOG"
      },
      "outputs": [],
      "source": [
        "from torchsummary import summary\n",
        "# load pretrained res\n",
        "summary(model, input_size=(1, 28, 28))\n"
      ]
    },
    {
      "cell_type": "code",
      "execution_count": null,
      "metadata": {
        "id": "FS9pmwp9M_Qd"
      },
      "outputs": [],
      "source": [
        "def accuracy_calculation(y_pred, y_true):\n",
        "    correct = torch.eq(y_true, y_pred).sum().item()\n",
        "    acc = (correct / len(y_pred)) * 100\n",
        "    return acc"
      ]
    },
    {
      "cell_type": "code",
      "execution_count": null,
      "metadata": {
        "id": "mSiNISW5Q0C1"
      },
      "outputs": [],
      "source": [
        "# dummy_x = torch.rand([2,1,28,28])\n",
        "# resnet(dummy_x)"
      ]
    },
    {
      "cell_type": "code",
      "execution_count": null,
      "metadata": {
        "colab": {
          "base_uri": "https://localhost:8080/"
        },
        "id": "a228EBy8KiU9",
        "outputId": "1a9bd7ce-1617-46ac-f676-755fc1556a3c"
      },
      "outputs": [
        {
          "output_type": "stream",
          "name": "stdout",
          "text": [
            "Epoch count: 0\n",
            "500 number of batch processed and current training_loss is 1.539985179901123, and training acc: 59.375\n",
            "1000 number of batch processed and current training_loss is 1.3737337589263916, and training acc: 65.625\n",
            "1500 number of batch processed and current training_loss is 1.3004192113876343, and training acc: 59.375\n",
            "Epoch: 0 || training_loss: 1.2654662132263184, training acc: 65.625 || test_loss: 1.1178301572799683, test_acc: 59.165335463258785\n",
            "Epoch count: 1\n",
            "500 number of batch processed and current training_loss is 1.1065926551818848, and training acc: 59.375\n",
            "1000 number of batch processed and current training_loss is 1.0995140075683594, and training acc: 56.25\n",
            "1500 number of batch processed and current training_loss is 1.0925726890563965, and training acc: 56.25\n",
            "Epoch: 1 || training_loss: 1.0858745574951172, training acc: 40.625 || test_loss: 1.0774492025375366, test_acc: 60.90255591054313\n",
            "Epoch count: 2\n",
            "500 number of batch processed and current training_loss is 1.0556496381759644, and training acc: 59.375\n",
            "1000 number of batch processed and current training_loss is 1.0486910343170166, and training acc: 59.375\n",
            "1500 number of batch processed and current training_loss is 1.0382575988769531, and training acc: 62.5\n",
            "Epoch: 2 || training_loss: 1.031847357749939, training acc: 59.375 || test_loss: 1.0324783325195312, test_acc: 62.36022364217252\n",
            "Epoch count: 3\n",
            "500 number of batch processed and current training_loss is 0.9996395111083984, and training acc: 68.75\n",
            "1000 number of batch processed and current training_loss is 1.0011276006698608, and training acc: 53.125\n",
            "1500 number of batch processed and current training_loss is 0.9948704838752747, and training acc: 53.125\n",
            "Epoch: 3 || training_loss: 0.9944518804550171, training acc: 50.0 || test_loss: 1.000415563583374, test_acc: 63.10902555910543\n",
            "Epoch count: 4\n",
            "500 number of batch processed and current training_loss is 0.9692462682723999, and training acc: 81.25\n",
            "1000 number of batch processed and current training_loss is 0.965481698513031, and training acc: 75.0\n",
            "1500 number of batch processed and current training_loss is 0.9650231003761292, and training acc: 75.0\n",
            "Epoch: 4 || training_loss: 0.9626424312591553, training acc: 56.25 || test_loss: 0.9816571474075317, test_acc: 64.23722044728434\n",
            "Epoch count: 5\n",
            "500 number of batch processed and current training_loss is 0.9560091495513916, and training acc: 71.875\n",
            "1000 number of batch processed and current training_loss is 0.9483492374420166, and training acc: 75.0\n",
            "1500 number of batch processed and current training_loss is 0.9433977007865906, and training acc: 46.875\n",
            "Epoch: 5 || training_loss: 0.9409369826316833, training acc: 62.5 || test_loss: 0.9707033038139343, test_acc: 64.28714057507987\n",
            "Epoch count: 6\n",
            "500 number of batch processed and current training_loss is 0.9277799129486084, and training acc: 62.5\n",
            "1000 number of batch processed and current training_loss is 0.9253467321395874, and training acc: 78.125\n",
            "1500 number of batch processed and current training_loss is 0.9200023412704468, and training acc: 87.5\n",
            "Epoch: 6 || training_loss: 0.9194775223731995, training acc: 62.5 || test_loss: 0.9367713928222656, test_acc: 65.22563897763578\n",
            "Epoch count: 7\n",
            "500 number of batch processed and current training_loss is 0.9040793180465698, and training acc: 53.125\n",
            "1000 number of batch processed and current training_loss is 0.9085078835487366, and training acc: 71.875\n",
            "1500 number of batch processed and current training_loss is 0.9040429592132568, and training acc: 62.5\n",
            "Epoch: 7 || training_loss: 0.9026047587394714, training acc: 65.625 || test_loss: 0.9329718947410583, test_acc: 65.27555910543131\n",
            "Epoch count: 8\n",
            "500 number of batch processed and current training_loss is 0.8973063230514526, and training acc: 62.5\n",
            "1000 number of batch processed and current training_loss is 0.8926441669464111, and training acc: 78.125\n",
            "1500 number of batch processed and current training_loss is 0.8935834169387817, and training acc: 56.25\n",
            "Epoch: 8 || training_loss: 0.8935469388961792, training acc: 65.625 || test_loss: 0.9294059872627258, test_acc: 65.64496805111821\n",
            "Epoch count: 9\n",
            "500 number of batch processed and current training_loss is 0.8824294805526733, and training acc: 78.125\n",
            "1000 number of batch processed and current training_loss is 0.886307418346405, and training acc: 71.875\n",
            "1500 number of batch processed and current training_loss is 0.8866047263145447, and training acc: 75.0\n",
            "Epoch: 9 || training_loss: 0.885837197303772, training acc: 65.625 || test_loss: 0.9209363460540771, test_acc: 65.79472843450479\n",
            "Epoch count: 10\n",
            "500 number of batch processed and current training_loss is 0.8612404465675354, and training acc: 68.75\n",
            "1000 number of batch processed and current training_loss is 0.8644547462463379, and training acc: 65.625\n",
            "1500 number of batch processed and current training_loss is 0.8665616512298584, and training acc: 53.125\n",
            "Epoch: 10 || training_loss: 0.8657103180885315, training acc: 59.375 || test_loss: 0.9160053730010986, test_acc: 65.83466453674122\n",
            "Epoch count: 11\n",
            "500 number of batch processed and current training_loss is 0.8602590560913086, and training acc: 68.75\n",
            "1000 number of batch processed and current training_loss is 0.8596469759941101, and training acc: 50.0\n",
            "1500 number of batch processed and current training_loss is 0.8580371141433716, and training acc: 56.25\n",
            "Epoch: 11 || training_loss: 0.8584204912185669, training acc: 71.875 || test_loss: 0.917909562587738, test_acc: 65.79472843450479\n",
            "Epoch count: 12\n",
            "500 number of batch processed and current training_loss is 0.8510439395904541, and training acc: 75.0\n",
            "1000 number of batch processed and current training_loss is 0.8494444489479065, and training acc: 65.625\n",
            "1500 number of batch processed and current training_loss is 0.8539469242095947, and training acc: 68.75\n",
            "Epoch: 12 || training_loss: 0.853966474533081, training acc: 62.5 || test_loss: 0.8987569808959961, test_acc: 66.50359424920129\n",
            "Epoch count: 13\n",
            "500 number of batch processed and current training_loss is 0.8432060480117798, and training acc: 65.625\n",
            "1000 number of batch processed and current training_loss is 0.8465112447738647, and training acc: 68.75\n",
            "1500 number of batch processed and current training_loss is 0.8443855047225952, and training acc: 75.0\n",
            "Epoch: 13 || training_loss: 0.8442367315292358, training acc: 68.75 || test_loss: 0.9082428812980652, test_acc: 66.51357827476038\n",
            "Epoch count: 14\n",
            "500 number of batch processed and current training_loss is 0.8373755812644958, and training acc: 46.875\n",
            "1000 number of batch processed and current training_loss is 0.8436062932014465, and training acc: 65.625\n",
            "1500 number of batch processed and current training_loss is 0.8419198393821716, and training acc: 68.75\n",
            "Epoch: 14 || training_loss: 0.8399234414100647, training acc: 65.625 || test_loss: 0.9050992727279663, test_acc: 66.49361022364218\n",
            "Epoch count: 15\n",
            "500 number of batch processed and current training_loss is 0.8337175846099854, and training acc: 65.625\n",
            "1000 number of batch processed and current training_loss is 0.8317201733589172, and training acc: 62.5\n",
            "1500 number of batch processed and current training_loss is 0.8318325281143188, and training acc: 68.75\n",
            "Epoch: 15 || training_loss: 0.8303307890892029, training acc: 75.0 || test_loss: 0.8966684341430664, test_acc: 66.45367412140575\n",
            "Epoch count: 16\n",
            "500 number of batch processed and current training_loss is 0.832722544670105, and training acc: 59.375\n",
            "1000 number of batch processed and current training_loss is 0.8238951563835144, and training acc: 59.375\n",
            "1500 number of batch processed and current training_loss is 0.8273658752441406, and training acc: 75.0\n",
            "Epoch: 16 || training_loss: 0.8276992440223694, training acc: 53.125 || test_loss: 0.8914920687675476, test_acc: 66.78314696485623\n",
            "Epoch count: 17\n",
            "500 number of batch processed and current training_loss is 0.8323101997375488, and training acc: 81.25\n",
            "1000 number of batch processed and current training_loss is 0.8200549483299255, and training acc: 62.5\n",
            "1500 number of batch processed and current training_loss is 0.8176383972167969, and training acc: 71.875\n",
            "Epoch: 17 || training_loss: 0.8205889463424683, training acc: 75.0 || test_loss: 0.8851785063743591, test_acc: 66.86301916932908\n",
            "Epoch count: 18\n",
            "500 number of batch processed and current training_loss is 0.8056783676147461, and training acc: 68.75\n",
            "1000 number of batch processed and current training_loss is 0.8101486563682556, and training acc: 65.625\n",
            "1500 number of batch processed and current training_loss is 0.810688316822052, and training acc: 62.5\n",
            "Epoch: 18 || training_loss: 0.8139956593513489, training acc: 68.75 || test_loss: 0.8956618309020996, test_acc: 66.49361022364218\n",
            "Epoch count: 19\n",
            "500 number of batch processed and current training_loss is 0.8194343447685242, and training acc: 65.625\n",
            "1000 number of batch processed and current training_loss is 0.8138474822044373, and training acc: 62.5\n",
            "1500 number of batch processed and current training_loss is 0.8137144446372986, and training acc: 65.625\n",
            "Epoch: 19 || training_loss: 0.8118752837181091, training acc: 37.5 || test_loss: 0.8894801139831543, test_acc: 66.95287539936102\n"
          ]
        }
      ],
      "source": [
        "# building training loop\n",
        "torch.manual_seed(42)\n",
        "epochs = 20\n",
        "epoch_count = []\n",
        "training_loss_list = []\n",
        "test_loss_list = []\n",
        "test_acc_list = []\n",
        "\n",
        "for epoch in range(epochs):\n",
        "  print(f\"Epoch count: {epoch}\")\n",
        "  training_loss = 0\n",
        "  avg_training_acc = 0\n",
        "  model.train()\n",
        "  for idx, batch in enumerate(train_dataloader):\n",
        "    imgs, label = batch\n",
        "    imgs = imgs.to(device)\n",
        "    label = label.to(device)\n",
        "    optimizer.zero_grad()\n",
        "\n",
        "    y_pred = model(imgs)\n",
        "    loss = loss_fn(y_pred, label)\n",
        "\n",
        "    loss.backward()\n",
        "    optimizer.step()\n",
        "\n",
        "    training_loss += loss\n",
        "    training_acc = accuracy_calculation(y_pred.argmax(dim=1), label)\n",
        "    avg_training_acc += training_acc\n",
        "    if idx%500 == 0 and idx>0:\n",
        "      print(f\"{idx} number of batch processed and current training_loss is {training_loss/idx}, and training acc: {training_acc}\")\n",
        "\n",
        "  training_loss = training_loss/len(train_dataloader)\n",
        "  avg_training_acc /= len(train_dataloader)\n",
        "\n",
        "\n",
        "  # eval\n",
        "  test_loss, test_acc = 0, 0\n",
        "  with torch.inference_mode():\n",
        "    for idx, batch in enumerate(test_dataloader):\n",
        "      imgs, test_label = batch\n",
        "      imgs = imgs.to(device)\n",
        "      test_label = test_label.to(device)\n",
        "\n",
        "      test_pred = model(imgs)\n",
        "      t_loss = loss_fn(test_pred, test_label)\n",
        "      test_loss += t_loss\n",
        "\n",
        "      t_acc = accuracy_calculation(test_pred.argmax(dim=1), test_label)\n",
        "      test_acc += t_acc\n",
        "\n",
        "    test_loss = test_loss/len(test_dataloader)\n",
        "    test_acc = test_acc/len(test_dataloader)\n",
        "\n",
        "  print(f\"Epoch: {epoch} || training_loss: {training_loss}, training acc: {training_acc} || test_loss: {test_loss}, test_acc: {test_acc}\")\n",
        "  epoch_count.append(epoch)\n",
        "  training_loss_list.append(training_loss)\n",
        "  test_loss_list.append(test_loss)\n",
        "  test_acc_list.append(test_acc)\n",
        "\n",
        "\n"
      ]
    },
    {
      "cell_type": "code",
      "source": [
        "import matplotlib.pyplot as plt\n",
        "\n",
        "plt.figure(figsize=(12, 5))\n",
        "\n",
        "# Plotting Loss\n",
        "plt.subplot(1, 2, 1)\n",
        "plt.plot(epoch_count, [tensor.detach().cpu().numpy() for tensor in training_loss_list] , label='Training Loss', marker='o')\n",
        "plt.plot(epoch_count, [tensor.detach().cpu().numpy() for tensor in test_loss_list], label='Test Loss', marker='x')\n",
        "plt.xlabel('Epochs')\n",
        "plt.ylabel('Loss')\n",
        "plt.title('Training and Test Loss')\n",
        "plt.legend()\n",
        "\n",
        "# Plotting Accuracy\n",
        "plt.subplot(1, 2, 2)\n",
        "plt.plot(epoch_count, test_acc_list, label='Test Accuracy', marker='o', color='green')\n",
        "plt.xlabel('Epochs')\n",
        "plt.ylabel('Accuracy')\n",
        "plt.title('Test Accuracy')\n",
        "plt.legend()\n",
        "\n",
        "plt.tight_layout()\n",
        "plt.show()\n"
      ],
      "metadata": {
        "colab": {
          "base_uri": "https://localhost:8080/",
          "height": 451
        },
        "id": "d7VMdMqOMZLc",
        "outputId": "85354576-d512-4c2a-d81c-9971103ec313"
      },
      "execution_count": null,
      "outputs": [
        {
          "output_type": "display_data",
          "data": {
            "text/plain": [
              "<Figure size 1200x500 with 2 Axes>"
            ],
            "image/png": "[encoded data removed]"
          },
          "metadata": {}
        }
      ]
    },
    {
      "cell_type": "code",
      "execution_count": null,
      "metadata": {
        "id": "Ew-pfTbSLg6H"
      },
      "outputs": [],
      "source": [
        "import torch\n",
        "import torchvision.transforms as transforms\n",
        "from PIL import Image\n",
        "\n",
        "def inference_pipeline(image_path, model):\n",
        "    preprocess = transforms.Compose([\n",
        "        transforms.Resize((28, 28)),\n",
        "        transforms.ToTensor(),\n",
        "    ])\n",
        "\n",
        "    image = Image.open(image_path).convert('L')\n",
        "\n",
        "    input_tensor = preprocess(image)\n",
        "    input_batch = input_tensor.unsqueeze(0).to(device)  # Adding batch dimension\n",
        "\n",
        "    # img = input_tensor\n",
        "    # plot_image(img, 0, 'gray')\n",
        "\n",
        "\n",
        "    model.eval()\n",
        "    with torch.inference_mode():\n",
        "        output = model(input_batch)\n",
        "\n",
        "    _, predicted_class = torch.max(output, 1)\n",
        "\n",
        "    return predicted_class.item()\n",
        "\n",
        "\n"
      ]
    },
    {
      "cell_type": "code",
      "execution_count": null,
      "metadata": {
        "id": "AhhQtmYiLg4o",
        "colab": {
          "base_uri": "https://localhost:8080/"
        },
        "outputId": "53764806-cf6d-422e-c7c4-9b051b5feeca"
      },
      "outputs": [
        {
          "output_type": "stream",
          "name": "stdout",
          "text": [
            "Predicted class: Dress\n"
          ]
        }
      ],
      "source": [
        "image_path = \"dress.jpeg\"\n",
        "\n",
        "predicted_class = inference_pipeline(image_path, model)\n",
        "print(\"Predicted class:\", class_names[predicted_class])"
      ]
    },
    {
      "cell_type": "code",
      "execution_count": null,
      "metadata": {
        "id": "rrMEucyFLg09"
      },
      "outputs": [],
      "source": []
    },
    {
      "cell_type": "code",
      "execution_count": null,
      "metadata": {
        "id": "mttjIMeFLgzM"
      },
      "outputs": [],
      "source": []
    },
    {
      "cell_type": "code",
      "execution_count": null,
      "metadata": {
        "id": "3TQeElsOLgxr"
      },
      "outputs": [],
      "source": []
    },
    {
      "cell_type": "code",
      "execution_count": null,
      "metadata": {
        "id": "mNBLaN5cLgvw"
      },
      "outputs": [],
      "source": []
    },
    {
      "cell_type": "code",
      "execution_count": null,
      "metadata": {
        "id": "4RUtre8rLguS"
      },
      "outputs": [],
      "source": []
    },
    {
      "cell_type": "code",
      "execution_count": null,
      "metadata": {
        "id": "-dErtv8-Lgsk"
      },
      "outputs": [],
      "source": []
    },
    {
      "cell_type": "markdown",
      "metadata": {
        "id": "edEeyjJDLjbs"
      },
      "source": [
        "# references\n",
        "https://pytorch.org/vision/0.9/models.html"
      ]
    },
    {
      "cell_type": "code",
      "execution_count": null,
      "metadata": {
        "id": "OtuuAS85Lkq8"
      },
      "outputs": [],
      "source": []
    }
  ],
  "metadata": {
    "colab": {
      "provenance": []
    },
    "kernelspec": {
      "display_name": "Python 3",
      "name": "python3"
    },
    "language_info": {
      "name": "python"
    }
  },
  "nbformat": 4,
  "nbformat_minor": 0
}